{
 "cells": [
  {
   "cell_type": "code",
   "execution_count": 48,
   "id": "1d50017b",
   "metadata": {},
   "outputs": [
    {
     "name": "stdout",
     "output_type": "stream",
     "text": [
      "Requirement already satisfied: python-docx in c:\\users\\abelma2\\appdata\\local\\miniforge3\\envs\\ace-592-sae\\lib\\site-packages (1.1.2)\n",
      "Requirement already satisfied: lxml>=3.1.0 in c:\\users\\abelma2\\appdata\\local\\miniforge3\\envs\\ace-592-sae\\lib\\site-packages (from python-docx) (5.3.0)\n",
      "Requirement already satisfied: typing-extensions>=4.9.0 in c:\\users\\abelma2\\appdata\\local\\miniforge3\\envs\\ace-592-sae\\lib\\site-packages (from python-docx) (4.12.2)\n"
     ]
    }
   ],
   "source": [
    "!pip install python-docx\n",
    "import pandas as pd\n",
    "from docx import Document"
   ]
  },
  {
   "cell_type": "code",
   "execution_count": 49,
   "id": "e99e3785",
   "metadata": {},
   "outputs": [],
   "source": [
    "poverty = pd.read_csv(r\"C:\\Users\\abelma2\\Desktop\\MASTERS\\SPRING 2025\\ACE592\\ACE592_FinalProject\\data\\Census_Data_-_Selected_socioeconomic_indicators_in_Chicago__2008___2012_20250408.csv\")  # e.g., Poverty data "
   ]
  },
  {
   "cell_type": "code",
   "execution_count": 52,
   "id": "3ddb5161",
   "metadata": {},
   "outputs": [],
   "source": [
    "poverty.loc[:, \"Community\"] = poverty[\"COMMUNITY AREA NAME\"].str.title()\n",
    "selected_neighborhoods = ['Austin', 'Humboldt park', 'North Lawndale', 'Englewood', 'West Englewood', 'South Shore']\n",
    "poverty_six_hoods = poverty[poverty['COMMUNITY AREA NAME'].isin(selected_neighborhoods)].copy()\n",
    "poverty_six_hoods = pd.DataFrame(poverty_six_hoods)\n",
    "\n",
    "def dataframe_to_word(df, filename):\n",
    "    doc = Document()\n",
    "    table = doc.add_table(rows=1, cols=len(df.columns))\n",
    "\n",
    "    hdr_cells = table.rows[0].cells\n",
    "    for idx, col_name in enumerate(df.columns):\n",
    "        hdr_cells[idx].text = str(col_name)\n",
    "\n",
    "    for _, row in df.iterrows():\n",
    "        row_cells = table.add_row().cells\n",
    "        for idx, item in enumerate(row):\n",
    "            row_cells[idx].text = str(item)\n",
    "\n",
    "    doc.save(filename)\n",
    "\n",
    "dataframe_to_word(poverty_six_hoods, r\"C:\\Users\\abelma2\\Desktop\\MASTERS\\SPRING 2025\\ACE592\\ACE592_FinalProject\\clean_data\\Pov_data_table.docx\")"
   ]
  }
 ],
 "metadata": {
  "kernelspec": {
   "display_name": "ace-592-sae",
   "language": "python",
   "name": "python3"
  },
  "language_info": {
   "codemirror_mode": {
    "name": "ipython",
    "version": 3
   },
   "file_extension": ".py",
   "mimetype": "text/x-python",
   "name": "python",
   "nbconvert_exporter": "python",
   "pygments_lexer": "ipython3",
   "version": "3.12.8"
  }
 },
 "nbformat": 4,
 "nbformat_minor": 5
}
